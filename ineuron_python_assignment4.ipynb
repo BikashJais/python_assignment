{
 "cells": [
  {
   "cell_type": "markdown",
   "id": "ae5d428e",
   "metadata": {},
   "source": [
    "### Q1. What exactly is []?\n",
    "## this is empty list value"
   ]
  },
  {
   "cell_type": "markdown",
   "id": "f2d70bcb",
   "metadata": {},
   "source": [
    "### Q2. In a list of values stored in a variable called spam, how would you assign the value 'hello' as the third value? (Assume [2, 4, 6, 8, 10] are in spam.)\n",
    "\n",
    "## spam.insert(2,\"hello\")\n"
   ]
  },
  {
   "cell_type": "code",
   "execution_count": 5,
   "id": "0d3a1fe9",
   "metadata": {},
   "outputs": [
    {
     "data": {
      "text/plain": [
       "[2, 4, 'hello', 6, 8, 10]"
      ]
     },
     "execution_count": 5,
     "metadata": {},
     "output_type": "execute_result"
    }
   ],
   "source": [
    "spam=[2,4,6,8,10]\n",
    "spam.insert(2,\"hello\")\n",
    "spam"
   ]
  },
  {
   "cell_type": "markdown",
   "id": "ea2ff017",
   "metadata": {},
   "source": [
    "### Let's pretend the spam includes the list ['a', 'b', 'c', 'd'] for the next three queries.\n",
    "### Q3. What is the value of spam[int(int('3' * 2) / 11)]?\n",
    "\n",
    "## value will b spam[3] which is \"d\"\n"
   ]
  },
  {
   "cell_type": "code",
   "execution_count": 7,
   "id": "606f412f",
   "metadata": {},
   "outputs": [
    {
     "data": {
      "text/plain": [
       "'d'"
      ]
     },
     "execution_count": 7,
     "metadata": {},
     "output_type": "execute_result"
    }
   ],
   "source": [
    "spam=['a','b','c','d']\n",
    "spam[int(int('3'*2)/11)]"
   ]
  },
  {
   "cell_type": "markdown",
   "id": "d1bddbeb",
   "metadata": {},
   "source": [
    "### Q4. What is the value of spam[-1]?\n",
    "\n",
    "## value will be the ;ast element of spam which is 'd'"
   ]
  },
  {
   "cell_type": "code",
   "execution_count": 8,
   "id": "271884a7",
   "metadata": {},
   "outputs": [
    {
     "data": {
      "text/plain": [
       "'d'"
      ]
     },
     "execution_count": 8,
     "metadata": {},
     "output_type": "execute_result"
    }
   ],
   "source": [
    "spam[-1]"
   ]
  },
  {
   "cell_type": "markdown",
   "id": "95467d44",
   "metadata": {},
   "source": [
    "### Q5. What is the value of spam[:2]?\n",
    "\n",
    "## value will be the list of spam from 0th index to 1st index which is ['a' , 'b']"
   ]
  },
  {
   "cell_type": "code",
   "execution_count": 9,
   "id": "f91105e9",
   "metadata": {},
   "outputs": [
    {
     "data": {
      "text/plain": [
       "['a', 'b']"
      ]
     },
     "execution_count": 9,
     "metadata": {},
     "output_type": "execute_result"
    }
   ],
   "source": [
    "spam[:2]"
   ]
  },
  {
   "cell_type": "markdown",
   "id": "b58048aa",
   "metadata": {},
   "source": [
    "### Let's pretend bacon has the list [3.14, 'cat,' 11, 'cat,' True] for the next three questions.\n",
    "### Q6. What is the value of bacon.index('cat')?\n",
    "\n",
    "## it will be the index position where it finds first cat which is 1\n"
   ]
  },
  {
   "cell_type": "code",
   "execution_count": 16,
   "id": "5d559cc5",
   "metadata": {},
   "outputs": [
    {
     "data": {
      "text/plain": [
       "1"
      ]
     },
     "execution_count": 16,
     "metadata": {},
     "output_type": "execute_result"
    }
   ],
   "source": [
    "bacon=  [3.14, 'cat', 11, 'cat', True]\n",
    "bacon.index('cat')"
   ]
  },
  {
   "cell_type": "markdown",
   "id": "e686abd5",
   "metadata": {},
   "source": [
    "### Q7. How does bacon.append(99) change the look of the list value in bacon?\n",
    "\n",
    "## it will append 99 as int value at the last of list  it will looks as [3.14, 'cat', 11, 'cat', True, 99]"
   ]
  },
  {
   "cell_type": "code",
   "execution_count": 18,
   "id": "5925ecac",
   "metadata": {},
   "outputs": [
    {
     "data": {
      "text/plain": [
       "[3.14, 'cat', 11, 'cat', True, 99]"
      ]
     },
     "execution_count": 18,
     "metadata": {},
     "output_type": "execute_result"
    }
   ],
   "source": [
    "bacon.append(99)\n",
    "bacon"
   ]
  },
  {
   "cell_type": "markdown",
   "id": "314a2022",
   "metadata": {},
   "source": [
    "### Q8. How does bacon.remove('cat') change the look of the list in bacon?\n",
    "\n",
    "## it will remove the first cat wherever it finds . After remove it will look like as  [3.14, 11, 'cat', True, 99]"
   ]
  },
  {
   "cell_type": "code",
   "execution_count": 19,
   "id": "bf29ed77",
   "metadata": {},
   "outputs": [
    {
     "data": {
      "text/plain": [
       "[3.14, 11, 'cat', True, 99]"
      ]
     },
     "execution_count": 19,
     "metadata": {},
     "output_type": "execute_result"
    }
   ],
   "source": [
    "bacon.remove('cat')\n",
    "bacon"
   ]
  },
  {
   "cell_type": "markdown",
   "id": "0277106f",
   "metadata": {},
   "source": [
    "### Q9. What are the list concatenation and list replication operators?\n",
    "\n",
    "## we can concatenate two list by(+) operator and replicate by(*) operator\n",
    "\n",
    "## list= list1 + list2\n",
    "## list= list1 *3"
   ]
  },
  {
   "cell_type": "markdown",
   "id": "42f05bab",
   "metadata": {},
   "source": [
    "### Q10. What is difference between the list methods append() and insert()?\n",
    "\n",
    "## append() method will add the the element at the last index and insert will add the element at the specified index "
   ]
  },
  {
   "cell_type": "markdown",
   "id": "49c29a13",
   "metadata": {},
   "source": [
    "### Q11. What are the two methods for removing items from a list?\n",
    "\n",
    "## remove() and pop().   Remove method will delete the specified element and pop will delete the last element of the list"
   ]
  },
  {
   "cell_type": "markdown",
   "id": "4e3162cd",
   "metadata": {},
   "source": [
    "### Q12. Describe how list values and string values are identical.\n",
    "\n",
    "##  Lists are similar to strings, which are ordered collections of values"
   ]
  },
  {
   "cell_type": "markdown",
   "id": "0d16eb2e",
   "metadata": {},
   "source": [
    "### Q13. What's the difference between tuples and lists?\n",
    "\n",
    "##  tuples are immutable objects while list are mutable. Tuples does not support item assignment"
   ]
  },
  {
   "cell_type": "markdown",
   "id": "9d620fcd",
   "metadata": {},
   "source": [
    "### Q14. How do you type a tuple value that only contains the integer 42?\n",
    "\n",
    "## tup= (42)\n"
   ]
  },
  {
   "cell_type": "markdown",
   "id": "f65e007e",
   "metadata": {},
   "source": [
    "### Q15. How do you get a list value's tuple form? How do you get a tuple value's list form?\n",
    "\n",
    "## tup= ([1,\"bikash\",True],[2,\"jais\",False])\n",
    "## lis= [(1,2,True),(\"Jaiswal\",17.8)]"
   ]
  },
  {
   "cell_type": "markdown",
   "id": "023b0a44",
   "metadata": {},
   "source": [
    "### Q16. Variables that \"contain\" list values are not necessarily lists themselves. Instead, what do they contain?\n",
    "\n",
    "## list values can contain different type of data type values like integer,string,float,boolean and list itself van contain list,tuple,set etc"
   ]
  },
  {
   "cell_type": "markdown",
   "id": "0102fd0f",
   "metadata": {},
   "source": [
    "### Q17. How do you distinguish between copy.copy() and copy.deepcopy()?\n",
    "\n",
    "## copy.copy( )  means constructing a new collection object and then populating it with references to the child objects found in the original. It means that any changes made to a copy of object do reflect in the original object.\n",
    "\n",
    "## copy.deepcopy()  means constructing a new collection object and then recursively populating it with copies of the child objects found in the original. It means that any changes made to a copy of object do not reflect in the original object. "
   ]
  },
  {
   "cell_type": "code",
   "execution_count": null,
   "id": "8b2ed878",
   "metadata": {},
   "outputs": [],
   "source": []
  }
 ],
 "metadata": {
  "kernelspec": {
   "display_name": "Python 3 (ipykernel)",
   "language": "python",
   "name": "python3"
  },
  "language_info": {
   "codemirror_mode": {
    "name": "ipython",
    "version": 3
   },
   "file_extension": ".py",
   "mimetype": "text/x-python",
   "name": "python",
   "nbconvert_exporter": "python",
   "pygments_lexer": "ipython3",
   "version": "3.9.7"
  }
 },
 "nbformat": 4,
 "nbformat_minor": 5
}
