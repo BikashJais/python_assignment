{
 "cells": [
  {
   "cell_type": "code",
   "execution_count": 1,
   "id": "1421447d",
   "metadata": {},
   "outputs": [
    {
     "name": "stdout",
     "output_type": "stream",
     "text": [
      "enter the kilometers to covert into miles 5\n",
      "5 kilometer is equalt to 3.1 miles\n"
     ]
    }
   ],
   "source": [
    "#Q1\n",
    "\n",
    "a= int(input(\"enter the kilometers to covert into miles \"))\n",
    "\n",
    "mil= a*0.62\n",
    "print(f\"{a} kilometer is equalt to {mil} miles\")"
   ]
  },
  {
   "cell_type": "code",
   "execution_count": 3,
   "id": "699b9b1b",
   "metadata": {},
   "outputs": [
    {
     "name": "stdout",
     "output_type": "stream",
     "text": [
      "enter the temperature in celsius7\n",
      "7 degree celsius is equal to 44.6 farhenhite\n"
     ]
    }
   ],
   "source": [
    "#Q2\n",
    "\n",
    "a= int(input(\"enter the temperature in celsius\"))\n",
    "\n",
    "far= 9/5*a+32\n",
    "print(f\"{a} degree celsius is equal to {far} farhenhite\")"
   ]
  },
  {
   "cell_type": "code",
   "execution_count": 6,
   "id": "ecf7996e",
   "metadata": {},
   "outputs": [
    {
     "name": "stdout",
     "output_type": "stream",
     "text": [
      "enter year and month 2019 8\n",
      "    August 2019\n",
      "Mo Tu We Th Fr Sa Su\n",
      "          1  2  3  4\n",
      " 5  6  7  8  9 10 11\n",
      "12 13 14 15 16 17 18\n",
      "19 20 21 22 23 24 25\n",
      "26 27 28 29 30 31\n",
      "\n"
     ]
    }
   ],
   "source": [
    "#Q3\n",
    "\n",
    "import calendar\n",
    "year,month= map(int,input(\"enter year and month \").split())\n",
    "\n",
    "print(calendar.month(year,month))"
   ]
  },
  {
   "cell_type": "code",
   "execution_count": 16,
   "id": "68f12598",
   "metadata": {},
   "outputs": [
    {
     "name": "stdout",
     "output_type": "stream",
     "text": [
      "enter coefficients1 2 1\n",
      "two roots are -1.0 and -1.0\n"
     ]
    }
   ],
   "source": [
    "#Q4\n",
    "import math\n",
    "a,b,c = map(int,input(\"enter coefficients\").split())\n",
    "try:\n",
    "    root1= (-b+ math.sqrt(b**2- 4*a*c))/2*a\n",
    "    root2= (-b- math.sqrt(b**2- 4*a*c))/2*a\n",
    "    print(f\"two roots are {root1} and {root2}\")\n",
    "except:\n",
    "    print(\"Please enter cofficients for real roots\")\n",
    "\n"
   ]
  },
  {
   "cell_type": "code",
   "execution_count": 17,
   "id": "fc74bb31",
   "metadata": {},
   "outputs": [
    {
     "name": "stdout",
     "output_type": "stream",
     "text": [
      "enter first number3\n",
      "enter second number4\n",
      "value of a and b afetr swaping are 4 and 3 respectively\n"
     ]
    }
   ],
   "source": [
    "#Q5\n",
    "a= int(input(\"enter first number\"))\n",
    "b= int(input(\"enter second number\"))\n",
    "\n",
    "a,b=b,a\n",
    "print(f\"value of a and b afetr swaping are {a} and {b} respectively\")"
   ]
  },
  {
   "cell_type": "code",
   "execution_count": null,
   "id": "af1190bb",
   "metadata": {},
   "outputs": [],
   "source": []
  }
 ],
 "metadata": {
  "kernelspec": {
   "display_name": "Python 3 (ipykernel)",
   "language": "python",
   "name": "python3"
  },
  "language_info": {
   "codemirror_mode": {
    "name": "ipython",
    "version": 3
   },
   "file_extension": ".py",
   "mimetype": "text/x-python",
   "name": "python",
   "nbconvert_exporter": "python",
   "pygments_lexer": "ipython3",
   "version": "3.9.7"
  }
 },
 "nbformat": 4,
 "nbformat_minor": 5
}
