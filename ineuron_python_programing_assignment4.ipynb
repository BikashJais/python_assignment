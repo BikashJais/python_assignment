{
 "cells": [
  {
   "cell_type": "code",
   "execution_count": null,
   "id": "986c498d",
   "metadata": {},
   "outputs": [],
   "source": [
    "#Q1 Write a Python Program to Find the Factorial of a Number?\n",
    "\n",
    "a= int(input(\"enter the number\"))\n",
    "c=1\n",
    "for i in range(1,a+1):\n",
    "    c=c*i\n",
    "print(f\"factorial of {a} is {c}\")"
   ]
  },
  {
   "cell_type": "code",
   "execution_count": null,
   "id": "4960410e",
   "metadata": {},
   "outputs": [],
   "source": [
    "#Q2 Write a Python Program to Display the multiplication Table?\n",
    "\n",
    "a= int(input(\"enter the number for table\"))\n",
    "for i in range(1,11):\n",
    "    print(f\"{a} X {i} = {a*i}\")"
   ]
  },
  {
   "cell_type": "code",
   "execution_count": null,
   "id": "f152d166",
   "metadata": {},
   "outputs": [],
   "source": [
    "#Q3 Write a Python Program to Print the Fibonacci sequence?\n",
    "\n",
    "n= int(input(\"enter the length \"))\n",
    "l=[1,2]\n",
    "for i in range(0,n):\n",
    "    l.append(l[i]+l[i+1])\n",
    "    \n",
    "print(l)\n",
    "    "
   ]
  },
  {
   "cell_type": "code",
   "execution_count": 11,
   "id": "516fcb11",
   "metadata": {},
   "outputs": [
    {
     "name": "stdout",
     "output_type": "stream",
     "text": [
      "enter the number371\n",
      "given number is armstrong number \n"
     ]
    }
   ],
   "source": [
    "#Q4 Write a Python Program to Check Armstrong Number?\n",
    "\n",
    "a= int(input(\"enter the number\"))\n",
    "cnt=0\n",
    "temp=a\n",
    "sum=0\n",
    "cnt= len(str(a))\n",
    "while a!=0:\n",
    "    r= a%10\n",
    "    sum=sum+(r**cnt)\n",
    "    a=a//10\n",
    "if (sum==temp):\n",
    "    print(\"given number is armstrong number \")\n",
    "else:\n",
    "    print(\"given number is not armstrong \")\n",
    "    "
   ]
  },
  {
   "cell_type": "code",
   "execution_count": 12,
   "id": "8c159702",
   "metadata": {},
   "outputs": [
    {
     "name": "stdout",
     "output_type": "stream",
     "text": [
      "enter lower and lower limit10 1000\n",
      "153,370,371,407,"
     ]
    }
   ],
   "source": [
    "#Q5.Write a Python Program to Find Armstrong Number in an Interval?\n",
    "\n",
    "lower,upper= map(int,input(\"enter lower and lower limit\").split())\n",
    "l=[]\n",
    "for i in range(lower,upper+1):\n",
    "    cnt= len(str(i))\n",
    "    temp=i\n",
    "    sum=0\n",
    "    while temp!=0:\n",
    "        r=temp%10\n",
    "        sum=sum+(r**cnt)\n",
    "        temp=temp//10\n",
    "    if(sum==i):\n",
    "        print(i,end=',')\n",
    "    "
   ]
  },
  {
   "cell_type": "code",
   "execution_count": 17,
   "id": "d7b4af68",
   "metadata": {},
   "outputs": [
    {
     "name": "stdout",
     "output_type": "stream",
     "text": [
      "enter the number7\n",
      "sum of 7 natural number is 28\n"
     ]
    }
   ],
   "source": [
    "#Q6 Write a Python Program to Find the Sum of Natural Numbers?\n",
    "\n",
    "n=  int(input(\"enter the number\"))\n",
    "sum=0\n",
    "for i in range(1,n+1):\n",
    "    sum=sum+i\n",
    "print(f\"sum of {n} natural number is {sum}\")"
   ]
  },
  {
   "cell_type": "code",
   "execution_count": null,
   "id": "5305692e",
   "metadata": {},
   "outputs": [],
   "source": []
  }
 ],
 "metadata": {
  "kernelspec": {
   "display_name": "Python 3 (ipykernel)",
   "language": "python",
   "name": "python3"
  },
  "language_info": {
   "codemirror_mode": {
    "name": "ipython",
    "version": 3
   },
   "file_extension": ".py",
   "mimetype": "text/x-python",
   "name": "python",
   "nbconvert_exporter": "python",
   "pygments_lexer": "ipython3",
   "version": "3.9.7"
  }
 },
 "nbformat": 4,
 "nbformat_minor": 5
}
