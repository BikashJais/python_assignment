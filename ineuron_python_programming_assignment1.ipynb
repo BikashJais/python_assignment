{
 "cells": [
  {
   "cell_type": "code",
   "execution_count": 1,
   "id": "17fd8a34",
   "metadata": {},
   "outputs": [
    {
     "name": "stdout",
     "output_type": "stream",
     "text": [
      "Hello Python\n"
     ]
    }
   ],
   "source": [
    "#Q1\n",
    "print(\"Hello Python\")"
   ]
  },
  {
   "cell_type": "code",
   "execution_count": 3,
   "id": "74646b8e",
   "metadata": {},
   "outputs": [
    {
     "name": "stdout",
     "output_type": "stream",
     "text": [
      "enter first number8\n",
      "enter second number2\n",
      "addition is : 10 and division is :4.0\n"
     ]
    }
   ],
   "source": [
    "#Q2\n",
    "\n",
    "a= int(input(\"enter first number\"))\n",
    "b= int(input(\"enter second number\"))\n",
    "\n",
    "add= a+b\n",
    "div= a/b\n",
    "\n",
    "print(f\"addition is : {add} and division is :{div}\")"
   ]
  },
  {
   "cell_type": "code",
   "execution_count": 6,
   "id": "f935342e",
   "metadata": {},
   "outputs": [
    {
     "name": "stdout",
     "output_type": "stream",
     "text": [
      "enter the length of base 5\n",
      "enter the length of prpendicular6\n",
      "area of triangle is : 15.0\n"
     ]
    }
   ],
   "source": [
    "#Q3\n",
    "\n",
    "a= int(input(\"enter the length of base \"))\n",
    "b= int(input(\"enter the length of prpendicular\"))\n",
    "\n",
    "print(\"area of triangle is : {}\".format(0.5*a*b))"
   ]
  },
  {
   "cell_type": "code",
   "execution_count": 7,
   "id": "5302bf1b",
   "metadata": {},
   "outputs": [
    {
     "name": "stdout",
     "output_type": "stream",
     "text": [
      "enter the first number 4\n",
      "enter the second number6\n",
      "value of a and b are after swaping is 6 and 4 \n"
     ]
    }
   ],
   "source": [
    "#Q4\n",
    "a= int(input(\"enter the first number \"))\n",
    "b= int(input(\"enter the second number\"))\n",
    "\n",
    "a,b=b,a\n",
    "print(f\"value of a and b are after swaping is {a} and {b} \")"
   ]
  },
  {
   "cell_type": "code",
   "execution_count": 13,
   "id": "94e29a1f",
   "metadata": {},
   "outputs": [
    {
     "data": {
      "text/plain": [
       "5"
      ]
     },
     "execution_count": 13,
     "metadata": {},
     "output_type": "execute_result"
    }
   ],
   "source": [
    "#Q5\n",
    "\n",
    "import random\n",
    "\n",
    "b=random.randint(1,10)\n",
    "b"
   ]
  },
  {
   "cell_type": "code",
   "execution_count": null,
   "id": "c2dd9d12",
   "metadata": {},
   "outputs": [],
   "source": []
  },
  {
   "cell_type": "code",
   "execution_count": null,
   "id": "fb3987cc",
   "metadata": {},
   "outputs": [],
   "source": []
  }
 ],
 "metadata": {
  "kernelspec": {
   "display_name": "Python 3 (ipykernel)",
   "language": "python",
   "name": "python3"
  },
  "language_info": {
   "codemirror_mode": {
    "name": "ipython",
    "version": 3
   },
   "file_extension": ".py",
   "mimetype": "text/x-python",
   "name": "python",
   "nbconvert_exporter": "python",
   "pygments_lexer": "ipython3",
   "version": "3.9.7"
  }
 },
 "nbformat": 4,
 "nbformat_minor": 5
}
