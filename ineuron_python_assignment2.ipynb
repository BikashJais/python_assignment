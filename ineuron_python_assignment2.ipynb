{
 "cells": [
  {
   "cell_type": "markdown",
   "id": "b62047af",
   "metadata": {},
   "source": [
    "## Q1.What are the two values of the Boolean data type? How do you write them?\n",
    "\n",
    "### two values of boolean data type are True AND False"
   ]
  },
  {
   "cell_type": "markdown",
   "id": "1de2eee3",
   "metadata": {},
   "source": [
    "##  Q2. What are the three different types of Boolean operators?\n",
    "\n",
    "### the three type of boolean operators are  OR , AND and NOT"
   ]
  },
  {
   "cell_type": "markdown",
   "id": "32d204cb",
   "metadata": {},
   "source": [
    "## Q3. Make a list of each Boolean operator's truth tables (i.e. every possible combination of Boolean values for the operator and what it evaluate ).\n",
    "\n",
    "### OR-                        AND-                               NOT-\n",
    "###        0,0->0                      0,0->0                              0->1\n",
    "###        0,1->1                       0,1->0                              1->0\n",
    "###        1,0->1                       1,0->0\n",
    "###        1,1->1                       1,1->1\n"
   ]
  },
  {
   "cell_type": "markdown",
   "id": "423f50f0",
   "metadata": {},
   "source": [
    "## Q4. What are the values of the following expressions?\n",
    "\n",
    "### (5 > 4) and (3 == 5)  ->False\n",
    "### not (5 > 4)  ->False           \n",
    "### (5 > 4) or (3 == 5) ->True\n",
    "### not ((5 > 4) or (3 == 5)) ->False\n",
    "### (True and True) and (True == False)  ->False\n",
    "### (not False) or (not True)  ->True\n"
   ]
  },
  {
   "cell_type": "markdown",
   "id": "4137a0ed",
   "metadata": {},
   "source": [
    "## Q5. What are the six comparison operators?\n",
    "\n",
    "###  > , <,>=,<=,==,!="
   ]
  },
  {
   "cell_type": "markdown",
   "id": "7e987d3e",
   "metadata": {},
   "source": [
    "## Q6. How do you tell the difference between the equal to and assignment operators?Describe a condition and when you would use one.\n",
    "\n",
    "###  to chck if some value is equal to other value or not we use == operator. Assignment operator is used to assign ### some value to the variable\n",
    "### a=5 (assignment operator)\n",
    "### if(a==5) (return True if condition is true)"
   ]
  },
  {
   "cell_type": "code",
   "execution_count": 8,
   "id": "52c45691",
   "metadata": {},
   "outputs": [
    {
     "name": "stdout",
     "output_type": "stream",
     "text": [
      "ham\n",
      "spam\n",
      "spam\n"
     ]
    }
   ],
   "source": [
    "# Q7. Identify the three blocks in this code:\n",
    "spam = 0\n",
    "#block 1\n",
    "if spam == 10:\n",
    "    print('eggs')\n",
    "#block 2\n",
    "if spam > 5: \n",
    "    print('bacon')\n",
    "#block 3\n",
    "else:\n",
    "    print('ham')\n",
    "    print('spam')\n",
    "    print('spam')\n"
   ]
  },
  {
   "cell_type": "code",
   "execution_count": 10,
   "id": "ecf895be",
   "metadata": {},
   "outputs": [
    {
     "name": "stdout",
     "output_type": "stream",
     "text": [
      "enter the spam value5\n",
      "Greeting!\n"
     ]
    }
   ],
   "source": [
    "# Q8. Write code that prints Hello if 1 is stored in spam, prints Howdy if 2 is stored in spam, and prints Greetings! if anything else is stored in spam.\n",
    "\n",
    "spam = int(input(\"enter the spam value\"))\n",
    "if spam==1:\n",
    "    print(\"Hello\")\n",
    "elif spam==2:\n",
    "    print(\"Howdy\")\n",
    "else:\n",
    "    print(\"Greeting!\")"
   ]
  },
  {
   "cell_type": "code",
   "execution_count": 11,
   "id": "1c8a2d25",
   "metadata": {},
   "outputs": [],
   "source": [
    "#Q9.If your programme is stuck in an endless loop, what keys you’ll press?\n",
    "\n",
    "\n",
    "#ctrl+c"
   ]
  },
  {
   "cell_type": "code",
   "execution_count": null,
   "id": "247be400",
   "metadata": {},
   "outputs": [],
   "source": [
    "# Q10. How can you tell the difference between break and continue?\n",
    "\n",
    "# break will end  executing the loop and come out of the loop but continue will stop execute the next statement written after it and continue to the loop"
   ]
  },
  {
   "cell_type": "code",
   "execution_count": 12,
   "id": "2a55ad2e",
   "metadata": {},
   "outputs": [],
   "source": [
    "# Q11. In a for loop, what is the difference between range(10), range(0, 10), and range(0, 10, 1)?\n",
    "\n",
    "# there is no difference between above range functions all will  be executed from 0 to 9 with step size as 1"
   ]
  },
  {
   "cell_type": "code",
   "execution_count": 17,
   "id": "f332ea67",
   "metadata": {},
   "outputs": [
    {
     "name": "stdout",
     "output_type": "stream",
     "text": [
      "1\n",
      "2\n",
      "3\n",
      "4\n",
      "5\n",
      "6\n",
      "7\n",
      "8\n",
      "9\n",
      "10\n",
      "1\n",
      "2\n",
      "3\n",
      "4\n",
      "5\n",
      "6\n",
      "7\n",
      "8\n",
      "9\n",
      "10\n"
     ]
    }
   ],
   "source": [
    "# Q12. Write a short program that prints the numbers 1 to 10 using a for loop. Then write an equivalent program that prints the numbers 1 to 10 using a while loop.\n",
    "for i in range(1,11):\n",
    "    print(i)\n",
    "j=1\n",
    "while j<11:\n",
    "    print(j)\n",
    "    j+=1"
   ]
  },
  {
   "cell_type": "code",
   "execution_count": 18,
   "id": "6708571b",
   "metadata": {},
   "outputs": [],
   "source": [
    "# Q13. If you had a function named bacon() inside a module named spam, how would you call it after importing spam?\n",
    "\n",
    "#import spam\n",
    "# spam.bacon()"
   ]
  },
  {
   "cell_type": "code",
   "execution_count": null,
   "id": "ba74b022",
   "metadata": {},
   "outputs": [],
   "source": []
  }
 ],
 "metadata": {
  "kernelspec": {
   "display_name": "Python 3 (ipykernel)",
   "language": "python",
   "name": "python3"
  },
  "language_info": {
   "codemirror_mode": {
    "name": "ipython",
    "version": 3
   },
   "file_extension": ".py",
   "mimetype": "text/x-python",
   "name": "python",
   "nbconvert_exporter": "python",
   "pygments_lexer": "ipython3",
   "version": "3.9.7"
  }
 },
 "nbformat": 4,
 "nbformat_minor": 5
}
