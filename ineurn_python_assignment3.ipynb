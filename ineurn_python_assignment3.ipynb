{
 "cells": [
  {
   "cell_type": "markdown",
   "id": "a93b559f",
   "metadata": {},
   "source": [
    "## Q1. Why are functions advantageous to have in your programs?\n",
    "\n",
    "### we can re-use the program written inside program by just calling it and avoid rework \n",
    "\n",
    "\n"
   ]
  },
  {
   "cell_type": "markdown",
   "id": "ea86d4c2",
   "metadata": {},
   "source": [
    "## Q2. When does the code in a function run: when it's specified or when it's called?\n",
    "\n",
    "### code in a function run only when it is been called"
   ]
  },
  {
   "cell_type": "markdown",
   "id": "a7d29aed",
   "metadata": {},
   "source": [
    "## Q3. What statement creates a function?\n",
    "\n",
    "###  def function_name(args):"
   ]
  },
  {
   "cell_type": "markdown",
   "id": "9e85cced",
   "metadata": {},
   "source": [
    "## Q4. What is the difference between a function and a function call?\n",
    "\n",
    "### function is a block of code to do something. Function call is calling the name of function which executes the ### function "
   ]
  },
  {
   "cell_type": "markdown",
   "id": "3cc179fe",
   "metadata": {},
   "source": [
    "## Q5. How many global scopes are there in a Python program? How many local scopes?\n",
    "\n",
    "### A variable created in the main body of the Python code is a global variable and belongs to the global scope.\n",
    "\n",
    "### Global variables are available from within any scope, global and local.\n",
    "\n",
    "### A variable created inside a function belongs to the local scope of that function, and can only be used inside that function."
   ]
  },
  {
   "cell_type": "markdown",
   "id": "ebc05d56",
   "metadata": {},
   "source": [
    "## Q6. What happens to variables in a local scope when the function call returns?\n",
    "\n",
    "### Its get destroyed "
   ]
  },
  {
   "cell_type": "markdown",
   "id": "8f6096b9",
   "metadata": {},
   "source": [
    "### Q7. What is the concept of a return value? Is it possible to have a return value in an expression?\n",
    "\n",
    "## return is a value that gets return when function is called and iit completed its task. \n",
    "## No return value is only possible with function ."
   ]
  },
  {
   "cell_type": "markdown",
   "id": "0485b732",
   "metadata": {},
   "source": [
    "### Q8. If a function does not have a return statement, what is the return value of a call to that function?\n",
    "\n",
    "## it returns none"
   ]
  },
  {
   "cell_type": "markdown",
   "id": "940180ba",
   "metadata": {},
   "source": [
    "### Q9. How do you make a function variable refer to the global variable?\n",
    "\n",
    "## We can use global keyword."
   ]
  },
  {
   "cell_type": "markdown",
   "id": "c6cf1a99",
   "metadata": {},
   "source": [
    "### Q10. What is the data type of None?\n",
    "## its None only"
   ]
  },
  {
   "cell_type": "markdown",
   "id": "588d97ed",
   "metadata": {},
   "source": [
    "### Q11. What does the sentence import areallyourpetsnamederic do?\n",
    "## import keyword makes one module available in other module. But here this is not  any correct module name."
   ]
  },
  {
   "cell_type": "markdown",
   "id": "d53be357",
   "metadata": {},
   "source": [
    "### Q12. If you had a bacon() feature in a spam module, what would you call it after importing spam?\n",
    "## you can directly call bacon() method after importing the spam module"
   ]
  },
  {
   "cell_type": "markdown",
   "id": "cff94a71",
   "metadata": {},
   "source": [
    "### Q13. What can you do to save a programme from crashing if it encounters an error?\n",
    "## we can  handle the error by using exception handling. This way we  can save program from crashing and do noirmal process for another codes"
   ]
  },
  {
   "cell_type": "markdown",
   "id": "9fce4090",
   "metadata": {},
   "source": [
    "### Q14. What is the purpose of the try clause? What is the purpose of the except clause?\n",
    "\n",
    "## we write the codes inside the try block so that if code inside it is error free it can execute otherwise if errors get caught it passses that to except block"
   ]
  },
  {
   "cell_type": "code",
   "execution_count": null,
   "id": "5bcbd84b",
   "metadata": {},
   "outputs": [],
   "source": []
  }
 ],
 "metadata": {
  "kernelspec": {
   "display_name": "Python 3 (ipykernel)",
   "language": "python",
   "name": "python3"
  },
  "language_info": {
   "codemirror_mode": {
    "name": "ipython",
    "version": 3
   },
   "file_extension": ".py",
   "mimetype": "text/x-python",
   "name": "python",
   "nbconvert_exporter": "python",
   "pygments_lexer": "ipython3",
   "version": "3.9.7"
  }
 },
 "nbformat": 4,
 "nbformat_minor": 5
}
