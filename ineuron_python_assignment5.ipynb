{
 "cells": [
  {
   "cell_type": "markdown",
   "id": "89ac1561",
   "metadata": {},
   "source": [
    "### Q1. What does an empty dictionary's code look like?\n",
    "\n",
    "## d={}"
   ]
  },
  {
   "cell_type": "markdown",
   "id": "ee50d9e6",
   "metadata": {},
   "source": [
    "### Q2. What is the value of a dictionary value with the key 'foo' and the value 42?\n",
    "\n",
    "## It will be 42\n",
    "## d={'foo':42}"
   ]
  },
  {
   "cell_type": "markdown",
   "id": "04a97044",
   "metadata": {},
   "source": [
    "### Q3. What is the most significant distinction between a dictionary and a list?\n",
    "\n",
    "## list is ordered collection of data whereas dictionary is ordered(after python 3.7) collection of key value pair data."
   ]
  },
  {
   "cell_type": "markdown",
   "id": "e5f2363f",
   "metadata": {},
   "source": [
    "### Q4. What happens if you try to access spam['foo'] if spam is {'bar': 100}?\n",
    "\n",
    "## it will give key error as foo is not present"
   ]
  },
  {
   "cell_type": "markdown",
   "id": "7cb5bd5b",
   "metadata": {},
   "source": [
    "### Q5. If a dictionary is stored in spam, what is the difference between the expressions 'cat' in spam and 'cat' in spam.keys()?\n",
    "\n",
    "## There is no differnce in these expressions because both will chk 'cat' in keys of spam dictionary"
   ]
  },
  {
   "cell_type": "markdown",
   "id": "ffdd0ae0",
   "metadata": {},
   "source": [
    "### Q7. What is a shortcut for the following code?\n",
    "## if 'color' not in spam:\n",
    "## spam['color'] = 'black'\n",
    "\n",
    "\n",
    "## span.setdefault('color','black')"
   ]
  },
  {
   "cell_type": "markdown",
   "id": "8cd100c1",
   "metadata": {},
   "source": [
    "### Q8. How do you \"pretty print\" dictionary values using which module and function?\n",
    "\n",
    "## using pprint module and pprint function we can pretty print dictionary. It is used to get dictionary output in more readbale way and also  sorting the dictionary’s values by key."
   ]
  },
  {
   "cell_type": "code",
   "execution_count": null,
   "id": "26914b48",
   "metadata": {},
   "outputs": [],
   "source": []
  }
 ],
 "metadata": {
  "kernelspec": {
   "display_name": "Python 3 (ipykernel)",
   "language": "python",
   "name": "python3"
  },
  "language_info": {
   "codemirror_mode": {
    "name": "ipython",
    "version": 3
   },
   "file_extension": ".py",
   "mimetype": "text/x-python",
   "name": "python",
   "nbconvert_exporter": "python",
   "pygments_lexer": "ipython3",
   "version": "3.9.7"
  }
 },
 "nbformat": 4,
 "nbformat_minor": 5
}
