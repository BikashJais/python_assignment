{
 "cells": [
  {
   "cell_type": "markdown",
   "id": "b541fb3a",
   "metadata": {},
   "source": [
    "## Q1. In the below elements which of them are values or an expression? eg:- values can be integer or string and expressions will be mathematical operators.\n",
    "\n",
    "\n",
    "### solution-\n",
    "\n",
    "### * is mathematical expression for multiply \n",
    "### 'hello' is string value\n",
    "### -87.8 is negative float value\n",
    "### - is mathematical expression for subtraction\n",
    "### / is mathematical expression for division\n",
    "### + is mathematical expression for addition\n",
    "### 6 in integer value"
   ]
  },
  {
   "cell_type": "markdown",
   "id": "4f83f44b",
   "metadata": {},
   "source": [
    "## Q2. What is the difference between string and variable?\n",
    "\n",
    "### solution\n",
    " \n",
    "### variables are containers that store data value and string is  immutable  sequence data type of Unicode characters"
   ]
  },
  {
   "cell_type": "markdown",
   "id": "c5763140",
   "metadata": {},
   "source": [
    "## Q3. Describe three different data types.\n",
    "\n",
    "### solution \n",
    "### int = integer data type. Holds integer numeric value\n",
    "### str = string data type . Holds sequence of characters\n",
    "### bool = boolean data type. Holds only True or False"
   ]
  },
  {
   "cell_type": "markdown",
   "id": "1315b7de",
   "metadata": {},
   "source": [
    "## Q4. What is an expression made up of? What do all expressions do?\n",
    "\n",
    "### solution\n",
    "\n",
    "### and expression is made up of variable values operators functions  etc. Expressions is used to evaluate the value which is expressed."
   ]
  },
  {
   "cell_type": "markdown",
   "id": "cce6288f",
   "metadata": {},
   "source": [
    "## Q5. This assignment statements, like spam = 10. What is the difference between an expression and a statement?\n",
    "\n",
    "### Solution\n",
    "\n",
    "### statements is like statement of doing something and not necessarily returing anything but on the other hand expression does return something everytime."
   ]
  },
  {
   "cell_type": "markdown",
   "id": "58dfcbb8",
   "metadata": {},
   "source": [
    "## Q6. After running the following code, what does the variable bacon contain?\n",
    "## bacon = 22\n",
    "## bacon + 1\n",
    "\n",
    "\n",
    "### Solution\n",
    "### bacon will contain 22 only beacuse value of bacon itself is not changing. Bacon+1 will return 23"
   ]
  },
  {
   "cell_type": "markdown",
   "id": "3d7974af",
   "metadata": {},
   "source": [
    "## Q7. What should the values of the following two terms be?\n",
    "## 'spam' + 'spamspam'\n",
    "## 'spam' * 3\n",
    "\n",
    "### solution\n",
    "\n",
    "###  spamspamspam\n",
    "###  spamspamspam"
   ]
  },
  {
   "cell_type": "markdown",
   "id": "7b598d43",
   "metadata": {},
   "source": [
    "## Q8. Why is eggs a valid variable name while 100 is invalid?\n",
    "\n",
    "### solution\n",
    "\n",
    "### because a variable name cannot start with a number."
   ]
  },
  {
   "cell_type": "markdown",
   "id": "05c7c3ec",
   "metadata": {},
   "source": [
    "## Q9. What three functions can be used to get the integer, floating-point number, or string version of a value?\n",
    "\n",
    "### solution\n",
    "\n",
    "### int(), float(), str()"
   ]
  },
  {
   "cell_type": "markdown",
   "id": "80383998",
   "metadata": {},
   "source": [
    "## Q10. Why does this expression cause an error? How can you fix it?\n",
    "## 'I have eaten ' + 99 + ' burritos.'\n",
    "\n",
    "### solution \n",
    "\n",
    "### we cannot add concatenate any string value with the integer type value. It will give type error\n",
    "### we can fix it by converting 99 as string datatype\n",
    "### 'I have eaten' + '99' + 'burritos'"
   ]
  },
  {
   "cell_type": "code",
   "execution_count": 8,
   "id": "169a3470",
   "metadata": {},
   "outputs": [
    {
     "ename": "TypeError",
     "evalue": "can only concatenate str (not \"int\") to str",
     "output_type": "error",
     "traceback": [
      "\u001b[1;31m---------------------------------------------------------------------------\u001b[0m",
      "\u001b[1;31mTypeError\u001b[0m                                 Traceback (most recent call last)",
      "\u001b[1;32m~\\AppData\\Local\\Temp/ipykernel_12920/2630289103.py\u001b[0m in \u001b[0;36m<module>\u001b[1;34m\u001b[0m\n\u001b[1;32m----> 1\u001b[1;33m \u001b[1;34m'I have eaten'\u001b[0m\u001b[1;33m+\u001b[0m\u001b[1;36m99\u001b[0m\u001b[1;33m+\u001b[0m\u001b[1;34m'burritos'\u001b[0m\u001b[1;33m\u001b[0m\u001b[1;33m\u001b[0m\u001b[0m\n\u001b[0m",
      "\u001b[1;31mTypeError\u001b[0m: can only concatenate str (not \"int\") to str"
     ]
    }
   ],
   "source": []
  },
  {
   "cell_type": "code",
   "execution_count": null,
   "id": "6ba4dfbb",
   "metadata": {},
   "outputs": [],
   "source": []
  }
 ],
 "metadata": {
  "kernelspec": {
   "display_name": "Python 3 (ipykernel)",
   "language": "python",
   "name": "python3"
  },
  "language_info": {
   "codemirror_mode": {
    "name": "ipython",
    "version": 3
   },
   "file_extension": ".py",
   "mimetype": "text/x-python",
   "name": "python",
   "nbconvert_exporter": "python",
   "pygments_lexer": "ipython3",
   "version": "3.9.7"
  }
 },
 "nbformat": 4,
 "nbformat_minor": 5
}
